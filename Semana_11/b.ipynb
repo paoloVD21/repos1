{
 "cells": [
  {
   "cell_type": "code",
   "execution_count": 39,
   "metadata": {},
   "outputs": [],
   "source": [
    "import pandas as pd\n",
    "import numpy as np\n",
    "import matplotlib.pyplot as plt\n",
    "#Se importa las librerias de IsolationForest\n",
    "#Sklearn.ensemble nos ayudara a la creacion de los arboles\n",
    "from sklearn.ensemble import IsolationForest\n",
    "\n",
    "#Se cargan los datos\n",
    "df = pd.read_csv(\"/workspaces/repos1/Semana_11/carros.csv\")"
   ]
  },
  {
   "cell_type": "code",
   "execution_count": 40,
   "metadata": {},
   "outputs": [],
   "source": [
    "# Bosques de Aislamiento con diferente contaminación\n",
    "c = [0.02, 0.05, 0.1] \n",
    "for i in range(len(c)):\n",
    "    modelo = IsolationForest(contamination=c[i]).fit(df)\n",
    "    resultados[i] = modelo.predict(df)"
   ]
  },
  {
   "cell_type": "code",
   "execution_count": 42,
   "metadata": {},
   "outputs": [
    {
     "ename": "InvalidIndexError",
     "evalue": "(slice(None, None, None), 0)",
     "output_type": "error",
     "traceback": [
      "\u001b[0;31m---------------------------------------------------------------------------\u001b[0m",
      "\u001b[0;31mTypeError\u001b[0m                                 Traceback (most recent call last)",
      "File \u001b[0;32m~/.local/lib/python3.10/site-packages/pandas/core/indexes/base.py:3790\u001b[0m, in \u001b[0;36mIndex.get_loc\u001b[0;34m(self, key)\u001b[0m\n\u001b[1;32m   3789\u001b[0m \u001b[39mtry\u001b[39;00m:\n\u001b[0;32m-> 3790\u001b[0m     \u001b[39mreturn\u001b[39;00m \u001b[39mself\u001b[39;49m\u001b[39m.\u001b[39;49m_engine\u001b[39m.\u001b[39;49mget_loc(casted_key)\n\u001b[1;32m   3791\u001b[0m \u001b[39mexcept\u001b[39;00m \u001b[39mKeyError\u001b[39;00m \u001b[39mas\u001b[39;00m err:\n",
      "File \u001b[0;32mindex.pyx:152\u001b[0m, in \u001b[0;36mpandas._libs.index.IndexEngine.get_loc\u001b[0;34m()\u001b[0m\n",
      "File \u001b[0;32mindex.pyx:158\u001b[0m, in \u001b[0;36mpandas._libs.index.IndexEngine.get_loc\u001b[0;34m()\u001b[0m\n",
      "\u001b[0;31mTypeError\u001b[0m: '(slice(None, None, None), 0)' is an invalid key",
      "\nDuring handling of the above exception, another exception occurred:\n",
      "\u001b[0;31mInvalidIndexError\u001b[0m                         Traceback (most recent call last)",
      "\u001b[1;32m/workspaces/repos1/Semana_11/b.ipynb Celda 3\u001b[0m line \u001b[0;36m7\n\u001b[1;32m      <a href='vscode-notebook-cell://codespaces%2Bstudious-parakeet-56p65q7vpwj2vr75/workspaces/repos1/Semana_11/b.ipynb#W4sdnNjb2RlLXJlbW90ZQ%3D%3D?line=4'>5</a>\u001b[0m \u001b[39mfor\u001b[39;00m i \u001b[39min\u001b[39;00m \u001b[39mrange\u001b[39m(\u001b[39mlen\u001b[39m(c)):    \n\u001b[1;32m      <a href='vscode-notebook-cell://codespaces%2Bstudious-parakeet-56p65q7vpwj2vr75/workspaces/repos1/Semana_11/b.ipynb#W4sdnNjb2RlLXJlbW90ZQ%3D%3D?line=5'>6</a>\u001b[0m     ax \u001b[39m=\u001b[39m fig\u001b[39m.\u001b[39madd_subplot(\u001b[39m1\u001b[39m, \u001b[39m3\u001b[39m, i\u001b[39m+\u001b[39m\u001b[39m1\u001b[39m)\n\u001b[0;32m----> <a href='vscode-notebook-cell://codespaces%2Bstudious-parakeet-56p65q7vpwj2vr75/workspaces/repos1/Semana_11/b.ipynb#W4sdnNjb2RlLXJlbW90ZQ%3D%3D?line=6'>7</a>\u001b[0m     ax\u001b[39m.\u001b[39mscatter(df[resultados[i]\u001b[39m==\u001b[39;49m\u001b[39m-\u001b[39;49m\u001b[39m1\u001b[39;49m][:, \u001b[39m0\u001b[39;49m], \n\u001b[1;32m      <a href='vscode-notebook-cell://codespaces%2Bstudious-parakeet-56p65q7vpwj2vr75/workspaces/repos1/Semana_11/b.ipynb#W4sdnNjb2RlLXJlbW90ZQ%3D%3D?line=7'>8</a>\u001b[0m                df[resultados[i]\u001b[39m==\u001b[39m\u001b[39m-\u001b[39m\u001b[39m1\u001b[39m][:, \u001b[39m1\u001b[39m], \n\u001b[1;32m      <a href='vscode-notebook-cell://codespaces%2Bstudious-parakeet-56p65q7vpwj2vr75/workspaces/repos1/Semana_11/b.ipynb#W4sdnNjb2RlLXJlbW90ZQ%3D%3D?line=8'>9</a>\u001b[0m                c\u001b[39m=\u001b[39m\u001b[39m\"\u001b[39m\u001b[39mskyblue\u001b[39m\u001b[39m\"\u001b[39m, marker\u001b[39m=\u001b[39m\u001b[39m\"\u001b[39m\u001b[39ms\u001b[39m\u001b[39m\"\u001b[39m, s\u001b[39m=\u001b[39m\u001b[39m500\u001b[39m)\n\u001b[1;32m     <a href='vscode-notebook-cell://codespaces%2Bstudious-parakeet-56p65q7vpwj2vr75/workspaces/repos1/Semana_11/b.ipynb#W4sdnNjb2RlLXJlbW90ZQ%3D%3D?line=9'>10</a>\u001b[0m     ax\u001b[39m.\u001b[39mscatter(df[:, \u001b[39m0\u001b[39m], \n\u001b[1;32m     <a href='vscode-notebook-cell://codespaces%2Bstudious-parakeet-56p65q7vpwj2vr75/workspaces/repos1/Semana_11/b.ipynb#W4sdnNjb2RlLXJlbW90ZQ%3D%3D?line=10'>11</a>\u001b[0m                df[:, \u001b[39m1\u001b[39m], \n\u001b[1;32m     <a href='vscode-notebook-cell://codespaces%2Bstudious-parakeet-56p65q7vpwj2vr75/workspaces/repos1/Semana_11/b.ipynb#W4sdnNjb2RlLXJlbW90ZQ%3D%3D?line=11'>12</a>\u001b[0m                c\u001b[39m=\u001b[39m\u001b[39mrange\u001b[39m(df\u001b[39m.\u001b[39msize\u001b[39m/\u001b[39m\u001b[39m/\u001b[39m\u001b[39m2\u001b[39m), marker\u001b[39m=\u001b[39m\u001b[39m\"\u001b[39m\u001b[39mx\u001b[39m\u001b[39m\"\u001b[39m,\n\u001b[1;32m     <a href='vscode-notebook-cell://codespaces%2Bstudious-parakeet-56p65q7vpwj2vr75/workspaces/repos1/Semana_11/b.ipynb#W4sdnNjb2RlLXJlbW90ZQ%3D%3D?line=12'>13</a>\u001b[0m                s\u001b[39m=\u001b[39m\u001b[39m500\u001b[39m, alpha\u001b[39m=\u001b[39m\u001b[39m0.6\u001b[39m)\n\u001b[1;32m     <a href='vscode-notebook-cell://codespaces%2Bstudious-parakeet-56p65q7vpwj2vr75/workspaces/repos1/Semana_11/b.ipynb#W4sdnNjb2RlLXJlbW90ZQ%3D%3D?line=13'>14</a>\u001b[0m     ax\u001b[39m.\u001b[39mset_title(\u001b[39m\"\u001b[39m\u001b[39mContaminación: \u001b[39m\u001b[39m%0.2f\u001b[39;00m\u001b[39m\"\u001b[39m \u001b[39m%\u001b[39m c[i], size\u001b[39m=\u001b[39m\u001b[39m18\u001b[39m, color\u001b[39m=\u001b[39m\u001b[39m\"\u001b[39m\u001b[39mpurple\u001b[39m\u001b[39m\"\u001b[39m)\n",
      "File \u001b[0;32m~/.local/lib/python3.10/site-packages/pandas/core/frame.py:3896\u001b[0m, in \u001b[0;36mDataFrame.__getitem__\u001b[0;34m(self, key)\u001b[0m\n\u001b[1;32m   3894\u001b[0m \u001b[39mif\u001b[39;00m \u001b[39mself\u001b[39m\u001b[39m.\u001b[39mcolumns\u001b[39m.\u001b[39mnlevels \u001b[39m>\u001b[39m \u001b[39m1\u001b[39m:\n\u001b[1;32m   3895\u001b[0m     \u001b[39mreturn\u001b[39;00m \u001b[39mself\u001b[39m\u001b[39m.\u001b[39m_getitem_multilevel(key)\n\u001b[0;32m-> 3896\u001b[0m indexer \u001b[39m=\u001b[39m \u001b[39mself\u001b[39;49m\u001b[39m.\u001b[39;49mcolumns\u001b[39m.\u001b[39;49mget_loc(key)\n\u001b[1;32m   3897\u001b[0m \u001b[39mif\u001b[39;00m is_integer(indexer):\n\u001b[1;32m   3898\u001b[0m     indexer \u001b[39m=\u001b[39m [indexer]\n",
      "File \u001b[0;32m~/.local/lib/python3.10/site-packages/pandas/core/indexes/base.py:3802\u001b[0m, in \u001b[0;36mIndex.get_loc\u001b[0;34m(self, key)\u001b[0m\n\u001b[1;32m   3797\u001b[0m     \u001b[39mraise\u001b[39;00m \u001b[39mKeyError\u001b[39;00m(key) \u001b[39mfrom\u001b[39;00m \u001b[39merr\u001b[39;00m\n\u001b[1;32m   3798\u001b[0m \u001b[39mexcept\u001b[39;00m \u001b[39mTypeError\u001b[39;00m:\n\u001b[1;32m   3799\u001b[0m     \u001b[39m# If we have a listlike key, _check_indexing_error will raise\u001b[39;00m\n\u001b[1;32m   3800\u001b[0m     \u001b[39m#  InvalidIndexError. Otherwise we fall through and re-raise\u001b[39;00m\n\u001b[1;32m   3801\u001b[0m     \u001b[39m#  the TypeError.\u001b[39;00m\n\u001b[0;32m-> 3802\u001b[0m     \u001b[39mself\u001b[39;49m\u001b[39m.\u001b[39;49m_check_indexing_error(key)\n\u001b[1;32m   3803\u001b[0m     \u001b[39mraise\u001b[39;00m\n",
      "File \u001b[0;32m~/.local/lib/python3.10/site-packages/pandas/core/indexes/base.py:5974\u001b[0m, in \u001b[0;36mIndex._check_indexing_error\u001b[0;34m(self, key)\u001b[0m\n\u001b[1;32m   5970\u001b[0m \u001b[39mdef\u001b[39;00m \u001b[39m_check_indexing_error\u001b[39m(\u001b[39mself\u001b[39m, key):\n\u001b[1;32m   5971\u001b[0m     \u001b[39mif\u001b[39;00m \u001b[39mnot\u001b[39;00m is_scalar(key):\n\u001b[1;32m   5972\u001b[0m         \u001b[39m# if key is not a scalar, directly raise an error (the code below\u001b[39;00m\n\u001b[1;32m   5973\u001b[0m         \u001b[39m# would convert to numpy arrays and raise later any way) - GH29926\u001b[39;00m\n\u001b[0;32m-> 5974\u001b[0m         \u001b[39mraise\u001b[39;00m InvalidIndexError(key)\n",
      "\u001b[0;31mInvalidIndexError\u001b[0m: (slice(None, None, None), 0)"
     ]
    },
    {
     "data": {
      "text/plain": [
       "<Figure size 640x480 with 0 Axes>"
      ]
     },
     "metadata": {},
     "output_type": "display_data"
    },
    {
     "data": {
      "image/png": "[encoded data removed]",
      "text/plain": [
       "<Figure size 1300x400 with 1 Axes>"
      ]
     },
     "metadata": {},
     "output_type": "display_data"
    }
   ],
   "source": [
    "# Graficar datos anómalos \n",
    "plt.set_cmap(\"jet\")\n",
    "fig = plt.figure(figsize=(13, 4))\n",
    "\n",
    "for i in range(len(c)):    \n",
    "    ax = fig.add_subplot(1, 3, i+1)\n",
    "    ax.scatter(df[resultados[i]==-1][:, 0], \n",
    "               df[resultados[i]==-1][:, 1], \n",
    "               c=\"skyblue\", marker=\"s\", s=500)\n",
    "    ax.scatter(df[:, 0], \n",
    "               df[:, 1], \n",
    "               c=range(df.size//2), marker=\"x\",\n",
    "               s=500, alpha=0.6)\n",
    "    ax.set_title(\"Contaminación: %0.2f\" % c[i], size=18, color=\"purple\")\n",
    "    ax.set_ylabel(\"Precio ($)\", size=10)\n",
    "    ax.set_xlabel(\"Kms recorridos\", size=14)\n",
    "\n",
    "plt.show()"
   ]
  }
 ],
 "metadata": {
  "kernelspec": {
   "display_name": "Python 3",
   "language": "python",
   "name": "python3"
  },
  "language_info": {
   "name": "python",
   "version": "3.10.8"
  }
 },
 "nbformat": 4,
 "nbformat_minor": 2
}
