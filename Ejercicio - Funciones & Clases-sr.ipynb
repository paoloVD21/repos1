{
 "cells": [
  {
   "attachments": {},
   "cell_type": "markdown",
   "metadata": {
    "colab_type": "text",
    "id": "jPtCmO6nSHGQ"
   },
   "source": [
    "# Ejercicio - Funciones & Clases\n"
   ]
  },
  {
   "attachments": {},
   "cell_type": "markdown",
   "metadata": {
    "colab_type": "text",
    "id": "m6BZ_n08gTgN"
   },
   "source": [
    "1. Crear una función que calcule el importe final de una factura considerando:\n",
    "- Recibe M (monto en soles)\n",
    "- Recibe I (% impuesto sobre el monto)\n",
    "- Si se llama a la función con solo el monto, se debe considerar un impuesto del 18%."
   ]
  },
  {
   "cell_type": "code",
   "execution_count": null,
   "metadata": {
    "colab": {},
    "colab_type": "code",
    "id": "m3oRE44qRel_"
   },
   "outputs": [],
   "source": [
    "def calcular_importe_final(monto, impuesto=18):\n",
    "    impuesto = impuesto / 100  # Convertir el porcentaje a decimal\n",
    "    importe_final = monto + (monto * impuesto)\n",
    "    return importe_final\n",
    "\n",
    "# Ejemplo de uso\n",
    "monto_factura = 100  # Cambia esto al monto de tu factura\n",
    "importe_final = calcular_importe_final(monto_factura)\n",
    "print(f\"El importe final de la factura es: {importe_final} soles\")"
   ]
  },
  {
   "attachments": {},
   "cell_type": "markdown",
   "metadata": {
    "colab_type": "text",
    "id": "fUtMBa6zS-qW"
   },
   "source": [
    "2. Realiza una función que tome una lista de números enteros y retorne dos listas. La primera con los números pares y la segunda con los números impares."
   ]
  },
  {
   "cell_type": "code",
   "execution_count": null,
   "metadata": {
    "colab": {},
    "colab_type": "code",
    "id": "wlP42oApTCBu"
   },
   "outputs": [],
   "source": []
  },
  {
   "attachments": {},
   "cell_type": "markdown",
   "metadata": {
    "colab_type": "text",
    "id": "v64Ph5JTCaJu"
   },
   "source": [
    "3. Crear una clase que contenga al menos 1 atributo por defecto, 2 atributos propios (creados dentro del método init) y 2 métodos. Se evaluará la coherencia de su planteamiento."
   ]
  },
  {
   "cell_type": "code",
   "execution_count": null,
   "metadata": {
    "colab": {},
    "colab_type": "code",
    "id": "Hs4GhNA6CaJ0"
   },
   "outputs": [],
   "source": []
  },
  {
   "attachments": {},
   "cell_type": "markdown",
   "metadata": {
    "colab_type": "text",
    "id": "6QgfrlUbQE1v"
   },
   "source": [
    "4. Crear una clase **Alumno** que permita agregar nuevos alumnos con información: CodAlumno, Nombre. Añadir un método AgregarCurso que permita añadir un nuevo curso a una lista que contenga los cursos en donde se encuentra matriculado."
   ]
  },
  {
   "cell_type": "code",
   "execution_count": null,
   "metadata": {},
   "outputs": [],
   "source": []
  },
  {
   "cell_type": "code",
   "execution_count": null,
   "metadata": {},
   "outputs": [],
   "source": []
  }
 ],
 "metadata": {
  "colab": {
   "collapsed_sections": [
    "jPtCmO6nSHGQ"
   ],
   "name": "Sesión04_FDP_OG5_Ejercicios.ipynb",
   "provenance": []
  },
  "kernelspec": {
   "display_name": "Python 3",
   "language": "python",
   "name": "python3"
  },
  "language_info": {
   "codemirror_mode": {
    "name": "ipython",
    "version": 3
   },
   "file_extension": ".py",
   "mimetype": "text/x-python",
   "name": "python",
   "nbconvert_exporter": "python",
   "pygments_lexer": "ipython3",
   "version": "3.11.1"
  }
 },
 "nbformat": 4,
 "nbformat_minor": 1
}
